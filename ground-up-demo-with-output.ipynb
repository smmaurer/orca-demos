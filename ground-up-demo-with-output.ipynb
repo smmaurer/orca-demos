{
 "cells": [
  {
   "cell_type": "markdown",
   "metadata": {},
   "source": [
    "# Building a simulation with Orca from the ground up\n",
    "\n",
    "Sam Maurer, UrbanSim User Meeting, Nov. 4, 2016"
   ]
  },
  {
   "cell_type": "markdown",
   "metadata": {},
   "source": [
    "### Import Orca and its new testing framework"
   ]
  },
  {
   "cell_type": "code",
   "execution_count": 1,
   "metadata": {
    "collapsed": false
   },
   "outputs": [],
   "source": [
    "import orca\n",
    "import orca_test as ot\n",
    "from orca_test import OrcaSpec, TableSpec, ColumnSpec"
   ]
  },
  {
   "cell_type": "markdown",
   "metadata": {
    "collapsed": true
   },
   "source": [
    "### Import NumPy and Pandas libraries, for data work"
   ]
  },
  {
   "cell_type": "code",
   "execution_count": 2,
   "metadata": {
    "collapsed": true
   },
   "outputs": [],
   "source": [
    "import numpy as np\n",
    "import pandas as pd"
   ]
  },
  {
   "cell_type": "markdown",
   "metadata": {
    "collapsed": true
   },
   "source": [
    "### Register some tables with our baseline data"
   ]
  },
  {
   "cell_type": "code",
   "execution_count": 3,
   "metadata": {
    "collapsed": true
   },
   "outputs": [],
   "source": [
    "@orca.table(cache=True)\n",
    "def parks():\n",
    "    return pd.read_csv('data/parks.csv')\n",
    "\n",
    "@orca.table(cache=True)\n",
    "def zones():\n",
    "    return pd.read_csv('data/zones.csv')"
   ]
  },
  {
   "cell_type": "markdown",
   "metadata": {},
   "source": [
    "### Look at the data"
   ]
  },
  {
   "cell_type": "code",
   "execution_count": 4,
   "metadata": {
    "collapsed": false
   },
   "outputs": [
    {
     "name": "stdout",
     "output_type": "stream",
     "text": [
      "         name  size  trees  acc_cbd  acc_res  budget\n",
      "0    Lakeside    50   1050     0.45     0.55    6000\n",
      "1       Plaza     2     50     0.20     0.80    3000\n",
      "2  Greenfield   200   2800     0.90     0.15   10000\n"
     ]
    }
   ],
   "source": [
    "print orca.get_table('parks').to_frame()"
   ]
  },
  {
   "cell_type": "code",
   "execution_count": 5,
   "metadata": {
    "collapsed": false
   },
   "outputs": [
    {
     "name": "stdout",
     "output_type": "stream",
     "text": [
      "          name   pop  empl\n",
      "0     Downtown   900  2000\n",
      "1  Residential  6000   150\n"
     ]
    }
   ],
   "source": [
    "print orca.get_table('zones').to_frame()"
   ]
  },
  {
   "cell_type": "markdown",
   "metadata": {},
   "source": [
    "### Register model steps for population, employment, budget growth"
   ]
  },
  {
   "cell_type": "code",
   "execution_count": 6,
   "metadata": {
    "collapsed": false
   },
   "outputs": [],
   "source": [
    "@orca.step()\n",
    "def zone_transition(zones):\n",
    "    zones['pop'] *= [1.05, 1]\n",
    "    zones['empl'] *= [1.05, 1]\n",
    "    return\n",
    "    \n",
    "@orca.step()\n",
    "def parks_transition(parks, year):\n",
    "    if year < 2018:\n",
    "        parks['budget'] -= 1000\n",
    "    return"
   ]
  },
  {
   "cell_type": "markdown",
   "metadata": {},
   "source": [
    "### Register a model step to predict visitors to parks"
   ]
  },
  {
   "cell_type": "code",
   "execution_count": 7,
   "metadata": {
    "collapsed": false
   },
   "outputs": [],
   "source": [
    "@orca.step()\n",
    "def predict_visitors(parks, zones, year):\n",
    "    \n",
    "    # Calculate weighted accessibilities\n",
    "    parks['pop_access'] = parks.acc_cbd * zones.pop[0] + parks.acc_res * zones.pop[1]\n",
    "    parks['empl_access'] = parks.acc_cbd * zones.empl[0] + parks.acc_res * zones.empl[1]\n",
    "\n",
    "    # Predict visitors\n",
    "    vis = 0.15 * parks.pop_access + 1.5 * parks.empl_access + 0.5 * np.log(parks.budget)\n",
    "    \n",
    "    # Save the output\n",
    "    parks['visitors_' + str(year)] = np.round(vis)\n",
    "    return"
   ]
  },
  {
   "cell_type": "markdown",
   "metadata": {
    "collapsed": true
   },
   "source": [
    "### Loose ends: Define the \"year\" variable"
   ]
  },
  {
   "cell_type": "code",
   "execution_count": 8,
   "metadata": {
    "collapsed": false
   },
   "outputs": [],
   "source": [
    "@orca.injectable()\n",
    "def year():\n",
    "    return orca.get_injectable('iter_var')"
   ]
  },
  {
   "cell_type": "markdown",
   "metadata": {},
   "source": [
    "### Test the baseline data (new Orca functionality!)"
   ]
  },
  {
   "cell_type": "code",
   "execution_count": 9,
   "metadata": {
    "collapsed": false
   },
   "outputs": [
    {
     "name": "stdout",
     "output_type": "stream",
     "text": [
      "All clear!\n"
     ]
    }
   ],
   "source": [
    "def test_data():\n",
    "    ot.assert_orca_spec(OrcaSpec('',\n",
    "        TableSpec('zones',\n",
    "            ColumnSpec('pop', min=0, missing=False),\n",
    "            ColumnSpec('empl', min=0, missing=False)),\n",
    "        TableSpec('parks',\n",
    "            ColumnSpec('acc_cbd', min=0, max=1, missing=False),\n",
    "            ColumnSpec('acc_res', min=0, max=1, missing=False),\n",
    "            ColumnSpec('budget', min=0.01, missing=False))))\n",
    "\n",
    "try:\n",
    "    test_data()\n",
    "    print \"All clear!\"\n",
    "\n",
    "except Exception, e:\n",
    "    print e"
   ]
  },
  {
   "cell_type": "markdown",
   "metadata": {},
   "source": [
    "### Run the model"
   ]
  },
  {
   "cell_type": "code",
   "execution_count": 10,
   "metadata": {
    "collapsed": false
   },
   "outputs": [],
   "source": [
    "%%capture\n",
    "orca.clear_cache()\n",
    "years = range(2016, 2021)\n",
    "\n",
    "orca.run(['zone_transition', 'parks_transition', 'predict_visitors'], iter_vars=years)"
   ]
  },
  {
   "cell_type": "markdown",
   "metadata": {},
   "source": [
    "### Look at the output"
   ]
  },
  {
   "cell_type": "code",
   "execution_count": 11,
   "metadata": {
    "collapsed": false
   },
   "outputs": [
    {
     "data": {
      "text/html": [
       "<div>\n",
       "<table border=\"1\" class=\"dataframe\">\n",
       "  <thead>\n",
       "    <tr style=\"text-align: right;\">\n",
       "      <th></th>\n",
       "      <th>name</th>\n",
       "      <th>size</th>\n",
       "      <th>trees</th>\n",
       "      <th>acc_cbd</th>\n",
       "      <th>acc_res</th>\n",
       "      <th>budget</th>\n",
       "      <th>pop_access</th>\n",
       "      <th>empl_access</th>\n",
       "      <th>visitors_2016</th>\n",
       "      <th>visitors_2017</th>\n",
       "      <th>visitors_2018</th>\n",
       "      <th>visitors_2019</th>\n",
       "      <th>visitors_2020</th>\n",
       "    </tr>\n",
       "  </thead>\n",
       "  <tbody>\n",
       "    <tr>\n",
       "      <th>0</th>\n",
       "      <td>Lakeside</td>\n",
       "      <td>50</td>\n",
       "      <td>1050</td>\n",
       "      <td>0.45</td>\n",
       "      <td>0.55</td>\n",
       "      <td>4000</td>\n",
       "      <td>3816.894033</td>\n",
       "      <td>1231.153406</td>\n",
       "      <td>2104.0</td>\n",
       "      <td>2178.0</td>\n",
       "      <td>2256.0</td>\n",
       "      <td>2338.0</td>\n",
       "      <td>2423.0</td>\n",
       "    </tr>\n",
       "    <tr>\n",
       "      <th>1</th>\n",
       "      <td>Plaza</td>\n",
       "      <td>2</td>\n",
       "      <td>50</td>\n",
       "      <td>0.20</td>\n",
       "      <td>0.80</td>\n",
       "      <td>1000</td>\n",
       "      <td>5029.730681</td>\n",
       "      <td>630.512625</td>\n",
       "      <td>1562.0</td>\n",
       "      <td>1595.0</td>\n",
       "      <td>1629.0</td>\n",
       "      <td>1666.0</td>\n",
       "      <td>1704.0</td>\n",
       "    </tr>\n",
       "    <tr>\n",
       "      <th>2</th>\n",
       "      <td>Greenfield</td>\n",
       "      <td>200</td>\n",
       "      <td>2800</td>\n",
       "      <td>0.90</td>\n",
       "      <td>0.15</td>\n",
       "      <td>8000</td>\n",
       "      <td>1933.788066</td>\n",
       "      <td>2319.806813</td>\n",
       "      <td>3136.0</td>\n",
       "      <td>3284.0</td>\n",
       "      <td>3439.0</td>\n",
       "      <td>3603.0</td>\n",
       "      <td>3774.0</td>\n",
       "    </tr>\n",
       "  </tbody>\n",
       "</table>\n",
       "</div>"
      ],
      "text/plain": [
       "         name  size  trees  acc_cbd  acc_res  budget   pop_access  \\\n",
       "0    Lakeside    50   1050     0.45     0.55    4000  3816.894033   \n",
       "1       Plaza     2     50     0.20     0.80    1000  5029.730681   \n",
       "2  Greenfield   200   2800     0.90     0.15    8000  1933.788066   \n",
       "\n",
       "   empl_access  visitors_2016  visitors_2017  visitors_2018  visitors_2019  \\\n",
       "0  1231.153406         2104.0         2178.0         2256.0         2338.0   \n",
       "1   630.512625         1562.0         1595.0         1629.0         1666.0   \n",
       "2  2319.806813         3136.0         3284.0         3439.0         3603.0   \n",
       "\n",
       "   visitors_2020  \n",
       "0         2423.0  \n",
       "1         1704.0  \n",
       "2         3774.0  "
      ]
     },
     "execution_count": 11,
     "metadata": {},
     "output_type": "execute_result"
    }
   ],
   "source": [
    "orca.get_table('parks').to_frame()"
   ]
  },
  {
   "cell_type": "code",
   "execution_count": null,
   "metadata": {
    "collapsed": true
   },
   "outputs": [],
   "source": []
  },
  {
   "cell_type": "code",
   "execution_count": null,
   "metadata": {
    "collapsed": true
   },
   "outputs": [],
   "source": []
  },
  {
   "cell_type": "code",
   "execution_count": null,
   "metadata": {
    "collapsed": true
   },
   "outputs": [],
   "source": []
  }
 ],
 "metadata": {
  "kernelspec": {
   "display_name": "Python 2",
   "language": "python",
   "name": "python2"
  },
  "language_info": {
   "codemirror_mode": {
    "name": "ipython",
    "version": 2
   },
   "file_extension": ".py",
   "mimetype": "text/x-python",
   "name": "python",
   "nbconvert_exporter": "python",
   "pygments_lexer": "ipython2",
   "version": "2.7.11"
  }
 },
 "nbformat": 4,
 "nbformat_minor": 0
}
