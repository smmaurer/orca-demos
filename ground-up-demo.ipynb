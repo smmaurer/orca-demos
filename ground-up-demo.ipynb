{
 "cells": [
  {
   "cell_type": "markdown",
   "metadata": {},
   "source": [
    "# Building a simulation with Orca from the ground up\n",
    "\n",
    "Sam Maurer, UrbanSim User Meeting, Nov. 4, 2016"
   ]
  },
  {
   "cell_type": "markdown",
   "metadata": {},
   "source": [
    "### Import Orca and its new testing framework"
   ]
  },
  {
   "cell_type": "code",
   "execution_count": null,
   "metadata": {
    "collapsed": true
   },
   "outputs": [],
   "source": [
    "import orca\n",
    "import orca_test as ot\n",
    "from orca_test import OrcaSpec, TableSpec, ColumnSpec"
   ]
  },
  {
   "cell_type": "markdown",
   "metadata": {
    "collapsed": true
   },
   "source": [
    "### Import NumPy and Pandas libraries, for data work"
   ]
  },
  {
   "cell_type": "code",
   "execution_count": null,
   "metadata": {
    "collapsed": true
   },
   "outputs": [],
   "source": [
    "import numpy as np\n",
    "import pandas as pd"
   ]
  },
  {
   "cell_type": "markdown",
   "metadata": {
    "collapsed": true
   },
   "source": [
    "### Register some tables with our baseline data"
   ]
  },
  {
   "cell_type": "code",
   "execution_count": null,
   "metadata": {
    "collapsed": true
   },
   "outputs": [],
   "source": [
    "@orca.table(cache=True)\n",
    "def parks():\n",
    "    return pd.read_csv('data/parks.csv')\n",
    "\n",
    "@orca.table(cache=True)\n",
    "def zones():\n",
    "    return pd.read_csv('data/zones.csv')"
   ]
  },
  {
   "cell_type": "markdown",
   "metadata": {},
   "source": [
    "### Look at the data"
   ]
  },
  {
   "cell_type": "code",
   "execution_count": null,
   "metadata": {
    "collapsed": false
   },
   "outputs": [],
   "source": [
    "print orca.get_table('parks').to_frame()"
   ]
  },
  {
   "cell_type": "code",
   "execution_count": null,
   "metadata": {
    "collapsed": false
   },
   "outputs": [],
   "source": [
    "print orca.get_table('zones').to_frame()"
   ]
  },
  {
   "cell_type": "markdown",
   "metadata": {},
   "source": [
    "### Register model steps for population, employment, budget growth"
   ]
  },
  {
   "cell_type": "code",
   "execution_count": null,
   "metadata": {
    "collapsed": false
   },
   "outputs": [],
   "source": [
    "@orca.step()\n",
    "def zone_transition(zones):\n",
    "    zones['pop'] *= [1.05, 1]\n",
    "    zones['empl'] *= [1.05, 1]\n",
    "    return\n",
    "    \n",
    "@orca.step()\n",
    "def parks_transition(parks, year):\n",
    "    if year <= 2018:\n",
    "        parks['budget'] -= 1000\n",
    "    return"
   ]
  },
  {
   "cell_type": "markdown",
   "metadata": {},
   "source": [
    "### Register a model step to predict visitors to parks"
   ]
  },
  {
   "cell_type": "code",
   "execution_count": null,
   "metadata": {
    "collapsed": false
   },
   "outputs": [],
   "source": [
    "@orca.step()\n",
    "def predict_visitors(parks, zones, year):\n",
    "    \n",
    "    # Calculate weighted accessibilities\n",
    "    parks['pop_access'] = parks.acc_cbd * zones.pop[0] + parks.acc_res * zones.pop[1]\n",
    "    parks['empl_access'] = parks.acc_cbd * zones.empl[0] + parks.acc_res * zones.empl[1]\n",
    "\n",
    "    # Predict visitors\n",
    "    vis = 0.15 * parks.pop_access + 1.5 * parks.empl_access + 0.5 * np.log(parks.budget)\n",
    "    \n",
    "    # Save the output\n",
    "    parks['visitors' + str(year)] = np.round(vis)\n",
    "    return"
   ]
  },
  {
   "cell_type": "markdown",
   "metadata": {
    "collapsed": true
   },
   "source": [
    "### Loose ends: Define the year variable"
   ]
  },
  {
   "cell_type": "code",
   "execution_count": null,
   "metadata": {
    "collapsed": false
   },
   "outputs": [],
   "source": [
    "@orca.injectable()\n",
    "def year():\n",
    "    return orca.get_injectable('iter_var')"
   ]
  },
  {
   "cell_type": "markdown",
   "metadata": {},
   "source": [
    "### Test the baseline data (new Orca functionality!)"
   ]
  },
  {
   "cell_type": "code",
   "execution_count": null,
   "metadata": {
    "collapsed": false
   },
   "outputs": [],
   "source": [
    "def test_data():\n",
    "    ot.assert_orca_spec(OrcaSpec('',\n",
    "        TableSpec('zones',\n",
    "            ColumnSpec('pop', min=0, missing=False),\n",
    "            ColumnSpec('empl', min=0, missing=False)),\n",
    "        TableSpec('parks',\n",
    "            ColumnSpec('acc_cbd', min=0, missing=False),\n",
    "            ColumnSpec('acc_res', min=0, missing=False),\n",
    "            ColumnSpec('budget', min=0.01, missing=False))))\n",
    "\n",
    "try:\n",
    "    test_data()\n",
    "    print \"All clear!\"\n",
    "\n",
    "except Exception, e:\n",
    "    print e"
   ]
  },
  {
   "cell_type": "markdown",
   "metadata": {},
   "source": [
    "### Run the model !!!"
   ]
  },
  {
   "cell_type": "code",
   "execution_count": null,
   "metadata": {
    "collapsed": false
   },
   "outputs": [],
   "source": [
    "%%capture\n",
    "orca.clear_cache()\n",
    "years = range(2016, 2021)\n",
    "\n",
    "orca.run(['zone_transition', 'parks_transition', 'predict_visitors'], iter_vars=years)"
   ]
  },
  {
   "cell_type": "markdown",
   "metadata": {},
   "source": [
    "### Look at the output"
   ]
  },
  {
   "cell_type": "code",
   "execution_count": null,
   "metadata": {
    "collapsed": false
   },
   "outputs": [],
   "source": [
    "orca.get_table('parks').to_frame()"
   ]
  },
  {
   "cell_type": "code",
   "execution_count": null,
   "metadata": {
    "collapsed": true
   },
   "outputs": [],
   "source": []
  },
  {
   "cell_type": "code",
   "execution_count": null,
   "metadata": {
    "collapsed": true
   },
   "outputs": [],
   "source": []
  },
  {
   "cell_type": "code",
   "execution_count": null,
   "metadata": {
    "collapsed": true
   },
   "outputs": [],
   "source": []
  }
 ],
 "metadata": {
  "kernelspec": {
   "display_name": "Python 2",
   "language": "python",
   "name": "python2"
  },
  "language_info": {
   "codemirror_mode": {
    "name": "ipython",
    "version": 2
   },
   "file_extension": ".py",
   "mimetype": "text/x-python",
   "name": "python",
   "nbconvert_exporter": "python",
   "pygments_lexer": "ipython2",
   "version": "2.7.11"
  }
 },
 "nbformat": 4,
 "nbformat_minor": 0
}
