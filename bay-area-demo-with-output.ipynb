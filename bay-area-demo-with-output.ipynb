{
 "cells": [
  {
   "cell_type": "markdown",
   "metadata": {},
   "source": [
    "# Demo: Using Orca with an existing model\n",
    "\n",
    "Sam Maurer, UrbanSim User Meeting, Nov. 4, 2016"
   ]
  },
  {
   "cell_type": "markdown",
   "metadata": {},
   "source": [
    "### Import the Orca library"
   ]
  },
  {
   "cell_type": "code",
   "execution_count": 1,
   "metadata": {
    "collapsed": false
   },
   "outputs": [],
   "source": [
    "import orca"
   ]
  },
  {
   "cell_type": "markdown",
   "metadata": {},
   "source": [
    "### Import the Bay Area model from local machine"
   ]
  },
  {
   "cell_type": "code",
   "execution_count": 2,
   "metadata": {
    "collapsed": true
   },
   "outputs": [],
   "source": [
    "import os; os.chdir('../../ual/bayarea_urbansim')\n",
    "from baus import models"
   ]
  },
  {
   "cell_type": "markdown",
   "metadata": {},
   "source": [
    "Many components are registered with Orca as the code is imported, but nothing is run yet."
   ]
  },
  {
   "cell_type": "markdown",
   "metadata": {},
   "source": [
    "### Check what data tables have been registered"
   ]
  },
  {
   "cell_type": "code",
   "execution_count": 3,
   "metadata": {
    "collapsed": false
   },
   "outputs": [
    {
     "data": {
      "text/plain": [
       "['manual_edits',\n",
       " 'taz_geography',\n",
       " 'employment_relocation_rates',\n",
       " 'parcels_zoning_by_scenario',\n",
       " 'household_controls',\n",
       " 'taz',\n",
       " 'zones',\n",
       " 'employment_controls',\n",
       " 'zoning_scenario',\n",
       " 'logsums']"
      ]
     },
     "execution_count": 3,
     "metadata": {},
     "output_type": "execute_result"
    }
   ],
   "source": [
    "orca.list_tables()[:10]"
   ]
  },
  {
   "cell_type": "markdown",
   "metadata": {},
   "source": [
    "### Check what model steps have been registered"
   ]
  },
  {
   "cell_type": "code",
   "execution_count": 4,
   "metadata": {
    "collapsed": false
   },
   "outputs": [
    {
     "data": {
      "text/plain": [
       "['households_transition',\n",
       " 'simple_jobs_transition',\n",
       " 'feasibility',\n",
       " 'topsheet',\n",
       " 'parcel_summary',\n",
       " 'geographic_summary',\n",
       " 'hlcm_estimate',\n",
       " 'jobs_relocation',\n",
       " 'calculate_vmt_fees',\n",
       " 'building_summary']"
      ]
     },
     "execution_count": 4,
     "metadata": {},
     "output_type": "execute_result"
    }
   ],
   "source": [
    "orca.list_steps()[:10]"
   ]
  },
  {
   "cell_type": "markdown",
   "metadata": {},
   "source": [
    "### Look inside a data table"
   ]
  },
  {
   "cell_type": "code",
   "execution_count": 7,
   "metadata": {
    "collapsed": false
   },
   "outputs": [
    {
     "data": {
      "text/html": [
       "<div>\n",
       "<table border=\"1\" class=\"dataframe\">\n",
       "  <thead>\n",
       "    <tr style=\"text-align: right;\">\n",
       "      <th></th>\n",
       "      <th>autoPeakRetail</th>\n",
       "      <th>autoPeakTotal</th>\n",
       "      <th>autoOffPeakRetail</th>\n",
       "      <th>autoOffPeakTotal</th>\n",
       "      <th>transitPeakRetail</th>\n",
       "      <th>transitPeakTotal</th>\n",
       "      <th>transitOffPeakRetail</th>\n",
       "      <th>transitOffPeakTotal</th>\n",
       "      <th>nonMotorizedRetail</th>\n",
       "      <th>nonMotorizedTotal</th>\n",
       "    </tr>\n",
       "    <tr>\n",
       "      <th>taz</th>\n",
       "      <th></th>\n",
       "      <th></th>\n",
       "      <th></th>\n",
       "      <th></th>\n",
       "      <th></th>\n",
       "      <th></th>\n",
       "      <th></th>\n",
       "      <th></th>\n",
       "      <th></th>\n",
       "      <th></th>\n",
       "    </tr>\n",
       "  </thead>\n",
       "  <tbody>\n",
       "    <tr>\n",
       "      <th>1</th>\n",
       "      <td>10.5416</td>\n",
       "      <td>13.0616</td>\n",
       "      <td>10.5312</td>\n",
       "      <td>13.0511</td>\n",
       "      <td>8.3954</td>\n",
       "      <td>11.1182</td>\n",
       "      <td>8.3003</td>\n",
       "      <td>11.0119</td>\n",
       "      <td>8.6157</td>\n",
       "      <td>11.3610</td>\n",
       "    </tr>\n",
       "    <tr>\n",
       "      <th>2</th>\n",
       "      <td>10.5336</td>\n",
       "      <td>13.0557</td>\n",
       "      <td>10.5185</td>\n",
       "      <td>13.0410</td>\n",
       "      <td>8.0848</td>\n",
       "      <td>10.8372</td>\n",
       "      <td>7.9369</td>\n",
       "      <td>10.6877</td>\n",
       "      <td>8.6104</td>\n",
       "      <td>11.3717</td>\n",
       "    </tr>\n",
       "    <tr>\n",
       "      <th>3</th>\n",
       "      <td>10.5082</td>\n",
       "      <td>13.0308</td>\n",
       "      <td>10.4998</td>\n",
       "      <td>13.0225</td>\n",
       "      <td>8.0456</td>\n",
       "      <td>10.7516</td>\n",
       "      <td>7.8563</td>\n",
       "      <td>10.5597</td>\n",
       "      <td>8.4067</td>\n",
       "      <td>11.1668</td>\n",
       "    </tr>\n",
       "    <tr>\n",
       "      <th>4</th>\n",
       "      <td>10.5609</td>\n",
       "      <td>13.0801</td>\n",
       "      <td>10.5458</td>\n",
       "      <td>13.0651</td>\n",
       "      <td>8.4306</td>\n",
       "      <td>11.1391</td>\n",
       "      <td>8.3426</td>\n",
       "      <td>11.0507</td>\n",
       "      <td>8.7110</td>\n",
       "      <td>11.4524</td>\n",
       "    </tr>\n",
       "    <tr>\n",
       "      <th>5</th>\n",
       "      <td>10.5458</td>\n",
       "      <td>13.0613</td>\n",
       "      <td>10.5325</td>\n",
       "      <td>13.0484</td>\n",
       "      <td>8.3395</td>\n",
       "      <td>11.0483</td>\n",
       "      <td>8.2755</td>\n",
       "      <td>10.9790</td>\n",
       "      <td>8.4145</td>\n",
       "      <td>11.1588</td>\n",
       "    </tr>\n",
       "  </tbody>\n",
       "</table>\n",
       "</div>"
      ],
      "text/plain": [
       "     autoPeakRetail  autoPeakTotal  autoOffPeakRetail  autoOffPeakTotal  \\\n",
       "taz                                                                       \n",
       "1           10.5416        13.0616            10.5312           13.0511   \n",
       "2           10.5336        13.0557            10.5185           13.0410   \n",
       "3           10.5082        13.0308            10.4998           13.0225   \n",
       "4           10.5609        13.0801            10.5458           13.0651   \n",
       "5           10.5458        13.0613            10.5325           13.0484   \n",
       "\n",
       "     transitPeakRetail  transitPeakTotal  transitOffPeakRetail  \\\n",
       "taz                                                              \n",
       "1               8.3954           11.1182                8.3003   \n",
       "2               8.0848           10.8372                7.9369   \n",
       "3               8.0456           10.7516                7.8563   \n",
       "4               8.4306           11.1391                8.3426   \n",
       "5               8.3395           11.0483                8.2755   \n",
       "\n",
       "     transitOffPeakTotal  nonMotorizedRetail  nonMotorizedTotal  \n",
       "taz                                                              \n",
       "1                11.0119              8.6157            11.3610  \n",
       "2                10.6877              8.6104            11.3717  \n",
       "3                10.5597              8.4067            11.1668  \n",
       "4                11.0507              8.7110            11.4524  \n",
       "5                10.9790              8.4145            11.1588  "
      ]
     },
     "execution_count": 7,
     "metadata": {},
     "output_type": "execute_result"
    }
   ],
   "source": [
    "orca.get_table('logsums').to_frame().head()"
   ]
  },
  {
   "cell_type": "markdown",
   "metadata": {
    "collapsed": false
   },
   "source": [
    "### Look inside a table with dependencies\n",
    "\n",
    "The Orca table object is only a wrapper, and the underlying data isn't generated until it's needed."
   ]
  },
  {
   "cell_type": "code",
   "execution_count": 6,
   "metadata": {
    "collapsed": false
   },
   "outputs": [
    {
     "data": {
      "text/plain": [
       "orca.orca.DataFrameWrapper"
      ]
     },
     "execution_count": 6,
     "metadata": {},
     "output_type": "execute_result"
    }
   ],
   "source": [
    "type(orca.get_table('zones'))"
   ]
  },
  {
   "cell_type": "code",
   "execution_count": 8,
   "metadata": {
    "collapsed": false
   },
   "outputs": [
    {
     "name": "stdout",
     "output_type": "stream",
     "text": [
      "Filling column shape_area with value 602.839834979 (0 values)\n",
      "Filling column zone_id with value 1178 (0 values)\n",
      "Filling column building_type_id with value 1 (0 values)\n",
      "Filling column residential_units with value 0 (0 values)\n",
      "Filling column year_built with value 1967.0 (0 values)\n",
      "Filling column non_residential_sqft with value 0 (0 values)\n",
      "Total deed restricted units after random selection: 116407\n",
      "Total deed restricted units after truncating to res units: 113357\n"
     ]
    },
    {
     "data": {
      "text/plain": [
       "pandas.core.frame.DataFrame"
      ]
     },
     "execution_count": 8,
     "metadata": {},
     "output_type": "execute_result"
    }
   ],
   "source": [
    "type(orca.get_table('zones').to_frame())"
   ]
  },
  {
   "cell_type": "markdown",
   "metadata": {},
   "source": [
    "This took about 30 seconds, but now the table is cached in Orca and future requests will be fast."
   ]
  },
  {
   "cell_type": "code",
   "execution_count": null,
   "metadata": {
    "collapsed": false
   },
   "outputs": [],
   "source": [
    "orca.get_table('zones').to_frame().head()"
   ]
  },
  {
   "cell_type": "code",
   "execution_count": null,
   "metadata": {
    "collapsed": true
   },
   "outputs": [],
   "source": []
  },
  {
   "cell_type": "code",
   "execution_count": null,
   "metadata": {
    "collapsed": true
   },
   "outputs": [],
   "source": []
  }
 ],
 "metadata": {
  "kernelspec": {
   "display_name": "Python 2",
   "language": "python",
   "name": "python2"
  },
  "language_info": {
   "codemirror_mode": {
    "name": "ipython",
    "version": 2
   },
   "file_extension": ".py",
   "mimetype": "text/x-python",
   "name": "python",
   "nbconvert_exporter": "python",
   "pygments_lexer": "ipython2",
   "version": "2.7.11"
  }
 },
 "nbformat": 4,
 "nbformat_minor": 0
}
