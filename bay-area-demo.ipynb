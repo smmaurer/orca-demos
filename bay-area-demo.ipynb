{
 "cells": [
  {
   "cell_type": "code",
   "execution_count": 3,
   "metadata": {
    "collapsed": false
   },
   "outputs": [],
   "source": [
    "import orca"
   ]
  },
  {
   "cell_type": "code",
   "execution_count": 2,
   "metadata": {
    "collapsed": true
   },
   "outputs": [],
   "source": [
    "import os; os.chdir('../../ual/bayarea_urbansim')\n",
    "from baus import models"
   ]
  },
  {
   "cell_type": "code",
   "execution_count": 4,
   "metadata": {
    "collapsed": false
   },
   "outputs": [
    {
     "data": {
      "text/plain": [
       "['manual_edits',\n",
       " 'taz_geography',\n",
       " 'employment_relocation_rates',\n",
       " 'parcels_zoning_by_scenario',\n",
       " 'household_controls',\n",
       " 'taz',\n",
       " 'zones',\n",
       " 'employment_controls',\n",
       " 'zoning_scenario',\n",
       " 'logsums',\n",
       " 'buildings_subset',\n",
       " 'landmarks',\n",
       " 'employment_controls_unstacked',\n",
       " 'households',\n",
       " 'parcels_geography',\n",
       " 'jobs_subset',\n",
       " 'homesales',\n",
       " 'demolish_events',\n",
       " 'household_controls_unstacked',\n",
       " 'nodes',\n",
       " 'zoning_table_city_lookup',\n",
       " 'households_subset',\n",
       " 'buildings',\n",
       " 'jobs',\n",
       " 'baseyear_taz_controls',\n",
       " 'zone_forecast_inputs',\n",
       " 'costar',\n",
       " 'zoning_lookup',\n",
       " 'base_year_summary_taz',\n",
       " 'vmt_fee_categories',\n",
       " 'development_projects',\n",
       " 'parcels_zoning_calculations',\n",
       " 'zoning_baseline',\n",
       " 'parcel_rejections',\n",
       " 'parcels']"
      ]
     },
     "execution_count": 4,
     "metadata": {},
     "output_type": "execute_result"
    }
   ],
   "source": [
    "# What tables are registered?\n",
    "\n",
    "orca.list_tables()"
   ]
  },
  {
   "cell_type": "code",
   "execution_count": 6,
   "metadata": {
    "collapsed": false
   },
   "outputs": [
    {
     "data": {
      "text/plain": [
       "[('parcels', 'general_type'),\n",
       " ('parcels_zoning_calculations', 'office_medium'),\n",
       " ('buildings', 'zonal_veryhighinc'),\n",
       " ('parcels', 'built_dua'),\n",
       " ('buildings', 'vacant_affordable_units_neg'),\n",
       " ('parcels', 'pda'),\n",
       " ('parcels', 'fees_per_unit'),\n",
       " ('homesales', 'tmnode_id'),\n",
       " ('jobs', 'empsix_id'),\n",
       " ('taz', 'hhinq1'),\n",
       " ('parcels_zoning_calculations', 'cat_ind'),\n",
       " ('taz', 'newdevacres'),\n",
       " ('parcels', 'node_id'),\n",
       " ('jobs', 'zone_id'),\n",
       " ('parcels', 'is_sanfran'),\n",
       " ('homesales', 'juris_ave_income'),\n",
       " ('parcels', 'total_residential_units'),\n",
       " ('taz', 'resacre'),\n",
       " ('parcels', 'zoned_du'),\n",
       " ('zones', 'ave_unit_sqft'),\n",
       " ('buildings', 'building_age_old'),\n",
       " ('taz', 'totemp'),\n",
       " ('taz', 'othempn'),\n",
       " ('parcels_zoning_calculations', 'non_res_categories'),\n",
       " ('costar', 'is_sanfran'),\n",
       " ('costar', 'node_id'),\n",
       " ('parcels', 'parcel_size'),\n",
       " ('parcels', 'building_purchase_price_sqft'),\n",
       " ('taz', 'resunits'),\n",
       " ('taz', 'density'),\n",
       " ('parcels_zoning_calculations', 'zoned_du'),\n",
       " ('parcels', 'performance_zone'),\n",
       " ('parcels_zoning_calculations', 'office_allowed'),\n",
       " ('taz', 'mfdu'),\n",
       " ('buildings', 'vacant_market_rate_units'),\n",
       " ('taz', 'totacre'),\n",
       " ('homesales', 'node_id'),\n",
       " ('taz', 'hhinq3'),\n",
       " ('parcels', 'lot_size_per_unit'),\n",
       " ('parcels_zoning_calculations', 'zoned_build_ratio'),\n",
       " ('buildings', 'building_age'),\n",
       " ('buildings', 'unit_price'),\n",
       " ('parcels', 'vmt_res_cat'),\n",
       " ('parcels', 'ave_sqft_per_unit'),\n",
       " ('buildings', 'sqft_per_unit'),\n",
       " ('taz', 'hhpop'),\n",
       " ('taz', 'retempn'),\n",
       " ('buildings', 'transit_type'),\n",
       " ('taz', 'hhinq4'),\n",
       " ('parcels', 'superdistrict'),\n",
       " ('parcels_zoning_calculations', 'zoned_du_underbuild'),\n",
       " ('buildings', 'general_type'),\n",
       " ('jobs', 'node_id'),\n",
       " ('parcels', 'first_building_type_id'),\n",
       " ('parcels', 'residential_purchase_price_sqft'),\n",
       " ('costar', 'tmnode_id'),\n",
       " ('parcels', 'height'),\n",
       " ('buildings', 'modern_condo'),\n",
       " ('buildings', 'vmt_res_cat'),\n",
       " ('buildings', 'building_age_recent'),\n",
       " ('parcels', 'urban_footprint'),\n",
       " ('taz', 'ciacre'),\n",
       " ('buildings', 'job_spaces'),\n",
       " ('taz', 'resvacancy'),\n",
       " ('buildings', 'juris_ave_income'),\n",
       " ('homesales', 'is_sanfran'),\n",
       " ('taz', 'county'),\n",
       " ('parcels', 'manual_nodev'),\n",
       " ('parcels', 'ave_unit_size'),\n",
       " ('parcels', 'oldest_building'),\n",
       " ('homesales', 'historic'),\n",
       " ('parcels_zoning_calculations', 'zoned_du_underbuild_nodev'),\n",
       " ('homesales', 'building_age_recent'),\n",
       " ('taz', 'areatype'),\n",
       " ('parcels_zoning_calculations', 'zoned_du_build_ratio'),\n",
       " ('costar', 'zone_id'),\n",
       " ('parcels', 'retail_ratio'),\n",
       " ('parcels', 'juris_ave_income'),\n",
       " ('parcels_zoning_calculations', 'retail_allowed'),\n",
       " ('buildings', 'historic'),\n",
       " ('taz', 'shpop62p'),\n",
       " ('parcels_zoning_calculations', 'effective_max_office_far'),\n",
       " ('buildings', 'base_price_per_sqft'),\n",
       " ('parcels', 'nodev'),\n",
       " ('buildings', 'is_sanfran'),\n",
       " ('parcels', 'cost_shifters'),\n",
       " ('parcels', 'total_sqft'),\n",
       " ('taz', 'fsempn'),\n",
       " ('households', 'income_quartile'),\n",
       " ('households', 'ones'),\n",
       " ('parcels', 'tmnode_id'),\n",
       " ('parcels', 'juris'),\n",
       " ('costar', 'general_type'),\n",
       " ('parcels', 'max_far'),\n",
       " ('taz', 'veryhighinc'),\n",
       " ('homesales', 'transit_type'),\n",
       " ('homesales', 'zonal_veryhighinc'),\n",
       " ('homesales', 'base_price_per_sqft'),\n",
       " ('buildings', 'vacant_job_spaces'),\n",
       " ('jobs', 'naics'),\n",
       " ('households', 'zone_id'),\n",
       " ('parcels', 'subregion'),\n",
       " ('taz', 'herempn'),\n",
       " ('homesales', 'general_type'),\n",
       " ('buildings', 'lot_size_per_unit'),\n",
       " ('taz', 'sfdu'),\n",
       " ('costar', 'transit_type'),\n",
       " ('parcels', 'total_job_spaces'),\n",
       " ('parcels', 'zoned_du_underbuild'),\n",
       " ('parcels', 'vmt_com_fees'),\n",
       " ('homesales', 'modern_condo'),\n",
       " ('parcels', 'newest_building'),\n",
       " ('nodes', 'retail_ratio'),\n",
       " ('jobs', 'tmnode_id'),\n",
       " ('households', 'tmnode_id'),\n",
       " ('taz', 'sd'),\n",
       " ('taz', 'agrempn'),\n",
       " ('parcels', 'parcel_rules'),\n",
       " ('parcels', 'parcel_acres'),\n",
       " ('parcels_zoning_calculations', 'office_high'),\n",
       " ('buildings', 'node_id'),\n",
       " ('parcels_zoning_calculations', 'zoned_far_build_ratio'),\n",
       " ('taz', 'gqpop'),\n",
       " ('parcels', 'stories'),\n",
       " ('buildings', 'market_rate_units'),\n",
       " ('homesales', 'zone_id'),\n",
       " ('parcels_zoning_calculations', 'industrial_allowed'),\n",
       " ('parcels', 'fees_per_sqft'),\n",
       " ('parcels', 'price_shifters'),\n",
       " ('parcels_zoning_calculations', 'cat_r'),\n",
       " ('parcels', 'vmt_res_fees'),\n",
       " ('households', 'node_id'),\n",
       " ('parcels', 'county'),\n",
       " ('buildings', 'tmnode_id'),\n",
       " ('parcels', 'residential_sales_price_sqft'),\n",
       " ('parcels', 'building_purchase_price'),\n",
       " ('homesales', 'building_age'),\n",
       " ('buildings', 'vacant_residential_units'),\n",
       " ('buildings', 'new_construction'),\n",
       " ('costar', 'juris_ave_income'),\n",
       " ('parcels_zoning_calculations', 'office_low'),\n",
       " ('taz', 'hhinq2'),\n",
       " ('taz', 'mwtempn'),\n",
       " ('parcels', 'built_far'),\n",
       " ('buildings', 'vacant_affordable_units'),\n",
       " ('parcels', 'max_dua'),\n",
       " ('parcels', 'total_non_residential_sqft'),\n",
       " ('buildings', 'sqft_per_job'),\n",
       " ('parcels', 'oldest_building_age'),\n",
       " ('parcels_zoning_calculations', 'effective_max_far'),\n",
       " ('homesales', 'building_age_old'),\n",
       " ('parcels', 'land_cost'),\n",
       " ('taz', 'tothh'),\n",
       " ('parcels_zoning_calculations', 'effective_max_dua'),\n",
       " ('buildings', 'zone_id'),\n",
       " ('homesales', 'new_construction')]"
      ]
     },
     "execution_count": 6,
     "metadata": {},
     "output_type": "execute_result"
    }
   ],
   "source": [
    "# What virtual columns are registered?\n",
    "\n",
    "orca.list_columns()"
   ]
  },
  {
   "cell_type": "code",
   "execution_count": 11,
   "metadata": {
    "collapsed": false
   },
   "outputs": [
    {
     "data": {
      "text/plain": [
       "['ave_unit_sqft']"
      ]
     },
     "execution_count": 11,
     "metadata": {},
     "output_type": "execute_result"
    }
   ],
   "source": [
    "# Which columns are associated with the 'buildings' table?\n",
    "\n",
    "[column for (table, column) in orca.list_columns() if table=='zones']"
   ]
  },
  {
   "cell_type": "code",
   "execution_count": 14,
   "metadata": {
    "collapsed": false
   },
   "outputs": [
    {
     "data": {
      "text/html": [
       "<div>\n",
       "<table border=\"1\" class=\"dataframe\">\n",
       "  <thead>\n",
       "    <tr style=\"text-align: right;\">\n",
       "      <th></th>\n",
       "      <th>gid</th>\n",
       "      <th>tract</th>\n",
       "      <th>area</th>\n",
       "      <th>acres</th>\n",
       "      <th>ave_unit_sqft</th>\n",
       "    </tr>\n",
       "  </thead>\n",
       "  <tbody>\n",
       "    <tr>\n",
       "      <th>count</th>\n",
       "      <td>1454.000000</td>\n",
       "      <td>1375.000000</td>\n",
       "      <td>1.454000e+03</td>\n",
       "      <td>1454.000000</td>\n",
       "      <td>1454.000000</td>\n",
       "    </tr>\n",
       "    <tr>\n",
       "      <th>mean</th>\n",
       "      <td>727.500000</td>\n",
       "      <td>363333.978182</td>\n",
       "      <td>1.254134e+07</td>\n",
       "      <td>287.909582</td>\n",
       "      <td>1988.501751</td>\n",
       "    </tr>\n",
       "    <tr>\n",
       "      <th>std</th>\n",
       "      <td>419.877958</td>\n",
       "      <td>181354.334928</td>\n",
       "      <td>6.745452e+07</td>\n",
       "      <td>1548.542656</td>\n",
       "      <td>1064.458530</td>\n",
       "    </tr>\n",
       "    <tr>\n",
       "      <th>min</th>\n",
       "      <td>1.000000</td>\n",
       "      <td>10100.000000</td>\n",
       "      <td>5.525473e+04</td>\n",
       "      <td>1.268000</td>\n",
       "      <td>400.000000</td>\n",
       "    </tr>\n",
       "    <tr>\n",
       "      <th>25%</th>\n",
       "      <td>364.250000</td>\n",
       "      <td>250850.000000</td>\n",
       "      <td>9.383170e+05</td>\n",
       "      <td>21.540750</td>\n",
       "      <td>1405.900000</td>\n",
       "    </tr>\n",
       "    <tr>\n",
       "      <th>50%</th>\n",
       "      <td>727.500000</td>\n",
       "      <td>420600.000000</td>\n",
       "      <td>1.609932e+06</td>\n",
       "      <td>36.959000</td>\n",
       "      <td>1758.500000</td>\n",
       "    </tr>\n",
       "    <tr>\n",
       "      <th>75%</th>\n",
       "      <td>1090.750000</td>\n",
       "      <td>504650.500000</td>\n",
       "      <td>3.612029e+06</td>\n",
       "      <td>82.921001</td>\n",
       "      <td>2029.424250</td>\n",
       "    </tr>\n",
       "    <tr>\n",
       "      <th>max</th>\n",
       "      <td>1454.000000</td>\n",
       "      <td>613800.000000</td>\n",
       "      <td>1.516080e+09</td>\n",
       "      <td>34804.417969</td>\n",
       "      <td>6000.000000</td>\n",
       "    </tr>\n",
       "  </tbody>\n",
       "</table>\n",
       "</div>"
      ],
      "text/plain": [
       "               gid          tract          area         acres  ave_unit_sqft\n",
       "count  1454.000000    1375.000000  1.454000e+03   1454.000000    1454.000000\n",
       "mean    727.500000  363333.978182  1.254134e+07    287.909582    1988.501751\n",
       "std     419.877958  181354.334928  6.745452e+07   1548.542656    1064.458530\n",
       "min       1.000000   10100.000000  5.525473e+04      1.268000     400.000000\n",
       "25%     364.250000  250850.000000  9.383170e+05     21.540750    1405.900000\n",
       "50%     727.500000  420600.000000  1.609932e+06     36.959000    1758.500000\n",
       "75%    1090.750000  504650.500000  3.612029e+06     82.921001    2029.424250\n",
       "max    1454.000000  613800.000000  1.516080e+09  34804.417969    6000.000000"
      ]
     },
     "execution_count": 14,
     "metadata": {},
     "output_type": "execute_result"
    }
   ],
   "source": [
    "orca.get_table('zones').to_frame().describe()"
   ]
  },
  {
   "cell_type": "code",
   "execution_count": 15,
   "metadata": {
    "collapsed": false
   },
   "outputs": [
    {
     "data": {
      "text/plain": [
       "['ave_unit_sqft']"
      ]
     },
     "execution_count": 15,
     "metadata": {},
     "output_type": "execute_result"
    }
   ],
   "source": [
    "[column for (table, column) in orca.list_columns() if table=='zones']"
   ]
  },
  {
   "cell_type": "code",
   "execution_count": null,
   "metadata": {
    "collapsed": true
   },
   "outputs": [],
   "source": []
  }
 ],
 "metadata": {
  "kernelspec": {
   "display_name": "Python 2",
   "language": "python",
   "name": "python2"
  },
  "language_info": {
   "codemirror_mode": {
    "name": "ipython",
    "version": 2
   },
   "file_extension": ".py",
   "mimetype": "text/x-python",
   "name": "python",
   "nbconvert_exporter": "python",
   "pygments_lexer": "ipython2",
   "version": "2.7.11"
  }
 },
 "nbformat": 4,
 "nbformat_minor": 0
}
